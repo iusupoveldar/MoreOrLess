{
 "cells": [
  {
   "cell_type": "code",
   "execution_count": 15,
   "id": "d354d3cb-51e8-41f4-9413-27f230ef9a6e",
   "metadata": {},
   "outputs": [],
   "source": [
    "import cv2\n",
    "import numpy as np\n",
    "import os\n",
    "from moviepy.editor import VideoFileClip, CompositeVideoClip, ImageSequenceClip, concatenate_videoclips, TextClip, AudioFileClip, concatenate_audioclips"
   ]
  },
  {
   "cell_type": "code",
   "execution_count": 16,
   "id": "3cd09b03-209b-4a03-85dc-032dad982781",
   "metadata": {},
   "outputs": [],
   "source": [
    "clip = AudioFileClip('assets\\\\tts\\\\What cost more AWP Dragon Lore(Well-Worn) or AWP Dragon Lore(Field-Tested)  .mp3')\n",
    "clip_duration = clip.duration"
   ]
  },
  {
   "cell_type": "code",
   "execution_count": 20,
   "id": "ff711a40-e628-474d-941b-b14ec75b2d68",
   "metadata": {},
   "outputs": [
    {
     "data": {
      "text/plain": [
       "4.05"
      ]
     },
     "execution_count": 20,
     "metadata": {},
     "output_type": "execute_result"
    }
   ],
   "source": [
    "start_point_ending = 10 - clip_duration\n",
    "start_point_ending"
   ]
  },
  {
   "cell_type": "code",
   "execution_count": 13,
   "id": "1dcf1d37-50ea-4ab4-8173-acae23932687",
   "metadata": {},
   "outputs": [],
   "source": [
    "ending = AudioFileClip('assets\\\\base\\\\tiktok_ending_sound.mp3')\n",
    "ending_duration = ending.duration"
   ]
  },
  {
   "cell_type": "code",
   "execution_count": 14,
   "id": "5aa5e2d9-5e0d-4499-8045-3b782539967f",
   "metadata": {},
   "outputs": [],
   "source": [
    "duration = 10"
   ]
  },
  {
   "cell_type": "code",
   "execution_count": 21,
   "id": "4964c892-81ca-48b8-8b49-abab504c6640",
   "metadata": {},
   "outputs": [
    {
     "data": {
      "text/plain": [
       "0.4400000000000004"
      ]
     },
     "execution_count": 21,
     "metadata": {},
     "output_type": "execute_result"
    }
   ],
   "source": [
    "ending_duration-start_point_ending"
   ]
  },
  {
   "cell_type": "code",
   "execution_count": 22,
   "id": "d470c5fd-8774-4eef-87f9-596a5cd21be1",
   "metadata": {},
   "outputs": [
    {
     "data": {
      "text/plain": [
       "4.49"
      ]
     },
     "execution_count": 22,
     "metadata": {},
     "output_type": "execute_result"
    }
   ],
   "source": [
    "ending_duration"
   ]
  },
  {
   "cell_type": "code",
   "execution_count": null,
   "id": "99f8c682-a464-4612-bec5-848b6ff7a2e9",
   "metadata": {},
   "outputs": [],
   "source": []
  }
 ],
 "metadata": {
  "kernelspec": {
   "display_name": "Python 3 (ipykernel)",
   "language": "python",
   "name": "python3"
  },
  "language_info": {
   "codemirror_mode": {
    "name": "ipython",
    "version": 3
   },
   "file_extension": ".py",
   "mimetype": "text/x-python",
   "name": "python",
   "nbconvert_exporter": "python",
   "pygments_lexer": "ipython3",
   "version": "3.11.7"
  }
 },
 "nbformat": 4,
 "nbformat_minor": 5
}

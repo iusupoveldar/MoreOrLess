{
 "cells": [
  {
   "cell_type": "code",
   "execution_count": 22,
   "id": "d354d3cb-51e8-41f4-9413-27f230ef9a6e",
   "metadata": {},
   "outputs": [],
   "source": [
    "import cv2\n",
    "import numpy as np"
   ]
  },
  {
   "cell_type": "code",
   "execution_count": 28,
   "id": "11a3fc71-8ac6-426b-91b6-37bdb1400fc9",
   "metadata": {},
   "outputs": [],
   "source": [
    "def rotate_and_scale_image(image, angle, scale):\n",
    "        \"\"\"Rotate and scale the image by the given angle and scale around its center.\"\"\"\n",
    "        h, w = image.shape[:2]\n",
    "        center = (w // 2, h // 2)\n",
    "\n",
    "        # Compute the combined rotation and scaling matrix.\n",
    "        M = cv2.getRotationMatrix2D(center, angle, scale)\n",
    "        # Perform the rotation and scaling.\n",
    "        rotated_scaled = cv2.warpAffine(image, M, (w, h))\n",
    "        return rotated_scaled\n",
    "def read_transparent_png(filename):\n",
    "    image_4channel = cv2.imread(filename, cv2.IMREAD_UNCHANGED)\n",
    "    alpha_channel = image_4channel[:,:,3]\n",
    "    rgb_channels = image_4channel[:,:,:3]\n",
    "\n",
    "    # White Background Image\n",
    "    white_background_image = np.ones_like(rgb_channels, dtype=np.uint8) * 255\n",
    "\n",
    "    # Alpha factor\n",
    "    alpha_factor = alpha_channel[:,:,np.newaxis].astype(np.float32) / 255.0\n",
    "    alpha_factor = np.concatenate((alpha_factor,alpha_factor,alpha_factor), axis=2)\n",
    "\n",
    "    # Transparent Image Rendered on White Background\n",
    "    base = rgb_channels.astype(np.float32) * alpha_factor\n",
    "    # white = white_background_image.astype(np.float32) * (1 - alpha_factor)\n",
    "    # final_image = base + white\n",
    "    return base.astype(np.uint8)"
   ]
  },
  {
   "cell_type": "code",
   "execution_count": 41,
   "id": "5d0b3c19-5923-4cf2-86bd-cc5bd70dd2f8",
   "metadata": {},
   "outputs": [],
   "source": [
    "image_path = \"assets\\\\img\\\\AK-47_Redline(Battle-Scarred).png\"\n",
    "img = cv2.imread(image_path, -1)"
   ]
  },
  {
   "cell_type": "code",
   "execution_count": 31,
   "id": "2e6c47f9-dcc8-4ef0-9682-30ad2bd97038",
   "metadata": {},
   "outputs": [],
   "source": [
    "img = read_transparent_png(image_path)"
   ]
  },
  {
   "cell_type": "code",
   "execution_count": 42,
   "id": "dca66e27-b800-4584-b1e6-0b42fd986fbf",
   "metadata": {},
   "outputs": [],
   "source": [
    "rotated_scaled_img = rotate_and_scale_image(img.copy(), 5, 1.0)"
   ]
  },
  {
   "cell_type": "code",
   "execution_count": 43,
   "id": "b92f9a0a-6798-4e61-836b-3e592ab9988a",
   "metadata": {},
   "outputs": [],
   "source": [
    "cv2.imshow(\"original image\", img)\n",
    "cv2.waitKey(0)  # passing 0 waits indefinitely until a key is pressed\n",
    "cv2.destroyAllWindows()\n",
    "cv2.imshow(\"original image\", rotated_scaled_img)\n",
    "cv2.waitKey(0)  # passing 0 waits indefinitely until a key is pressed\n",
    "cv2.destroyAllWindows()"
   ]
  },
  {
   "cell_type": "code",
   "execution_count": 44,
   "id": "1c76d612-7793-4b84-a4fc-43efdc5a98bf",
   "metadata": {},
   "outputs": [
    {
     "data": {
      "text/plain": [
       "True"
      ]
     },
     "execution_count": 44,
     "metadata": {},
     "output_type": "execute_result"
    }
   ],
   "source": [
    "cv2.imwrite('rotated.png', rotated_scaled_img)"
   ]
  },
  {
   "cell_type": "code",
   "execution_count": null,
   "id": "6b169245-6a2c-4631-a13f-3605eb961500",
   "metadata": {},
   "outputs": [],
   "source": []
  }
 ],
 "metadata": {
  "kernelspec": {
   "display_name": "Python 3 (ipykernel)",
   "language": "python",
   "name": "python3"
  },
  "language_info": {
   "codemirror_mode": {
    "name": "ipython",
    "version": 3
   },
   "file_extension": ".py",
   "mimetype": "text/x-python",
   "name": "python",
   "nbconvert_exporter": "python",
   "pygments_lexer": "ipython3",
   "version": "3.11.7"
  }
 },
 "nbformat": 4,
 "nbformat_minor": 5
}

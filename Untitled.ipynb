{
 "cells": [
  {
   "cell_type": "code",
   "execution_count": 22,
   "id": "d354d3cb-51e8-41f4-9413-27f230ef9a6e",
   "metadata": {},
   "outputs": [],
   "source": [
    "import cv2\n",
    "import numpy as np"
   ]
  },
  {
   "cell_type": "code",
   "execution_count": 28,
   "id": "11a3fc71-8ac6-426b-91b6-37bdb1400fc9",
   "metadata": {},
   "outputs": [],
   "source": [
    "def rotate_and_scale_image(image, angle, scale):\n",
    "        \"\"\"Rotate and scale the image by the given angle and scale around its center.\"\"\"\n",
    "        h, w = image.shape[:2]\n",
    "        center = (w // 2, h // 2)\n",
    "\n",
    "        # Compute the combined rotation and scaling matrix.\n",
    "        M = cv2.getRotationMatrix2D(center, angle, scale)\n",
    "        # Perform the rotation and scaling.\n",
    "        rotated_scaled = cv2.warpAffine(image, M, (w, h))\n",
    "        return rotated_scaled\n",
    "def read_transparent_png(filename):\n",
    "    image_4channel = cv2.imread(filename, cv2.IMREAD_UNCHANGED)\n",
    "    alpha_channel = image_4channel[:,:,3]\n",
    "    rgb_channels = image_4channel[:,:,:3]\n",
    "\n",
    "    # White Background Image\n",
    "    white_background_image = np.ones_like(rgb_channels, dtype=np.uint8) * 255\n",
    "\n",
    "    # Alpha factor\n",
    "    alpha_factor = alpha_channel[:,:,np.newaxis].astype(np.float32) / 255.0\n",
    "    alpha_factor = np.concatenate((alpha_factor,alpha_factor,alpha_factor), axis=2)\n",
    "\n",
    "    # Transparent Image Rendered on White Background\n",
    "    base = rgb_channels.astype(np.float32) * alpha_factor\n",
    "    # white = white_background_image.astype(np.float32) * (1 - alpha_factor)\n",
    "    # final_image = base + white\n",
    "    return base.astype(np.uint8)"
   ]
  },
  {
   "cell_type": "code",
   "execution_count": 41,
   "id": "5d0b3c19-5923-4cf2-86bd-cc5bd70dd2f8",
   "metadata": {},
   "outputs": [],
   "source": [
    "image_path = \"assets\\\\img\\\\AK-47_Redline(Battle-Scarred).png\"\n",
    "img = cv2.imread(image_path, -1)"
   ]
  },
  {
   "cell_type": "code",
   "execution_count": 31,
   "id": "2e6c47f9-dcc8-4ef0-9682-30ad2bd97038",
   "metadata": {},
   "outputs": [],
   "source": [
    "img = read_transparent_png(image_path)"
   ]
  },
  {
   "cell_type": "code",
   "execution_count": 42,
   "id": "dca66e27-b800-4584-b1e6-0b42fd986fbf",
   "metadata": {},
   "outputs": [],
   "source": [
    "rotated_scaled_img = rotate_and_scale_image(img.copy(), 5, 1.0)"
   ]
  },
  {
   "cell_type": "code",
   "execution_count": 43,
   "id": "b92f9a0a-6798-4e61-836b-3e592ab9988a",
   "metadata": {},
   "outputs": [],
   "source": [
    "cv2.imshow(\"original image\", img)\n",
    "cv2.waitKey(0)  # passing 0 waits indefinitely until a key is pressed\n",
    "cv2.destroyAllWindows()\n",
    "cv2.imshow(\"original image\", rotated_scaled_img)\n",
    "cv2.waitKey(0)  # passing 0 waits indefinitely until a key is pressed\n",
    "cv2.destroyAllWindows()"
   ]
  },
  {
   "cell_type": "code",
   "execution_count": 44,
   "id": "1c76d612-7793-4b84-a4fc-43efdc5a98bf",
   "metadata": {},
   "outputs": [
    {
     "data": {
      "text/plain": [
       "True"
      ]
     },
     "execution_count": 44,
     "metadata": {},
     "output_type": "execute_result"
    }
   ],
   "source": [
    "cv2.imwrite('rotated.png', rotated_scaled_img)"
   ]
  },
  {
   "cell_type": "code",
   "execution_count": 1,
   "id": "6b169245-6a2c-4631-a13f-3605eb961500",
   "metadata": {},
   "outputs": [],
   "source": [
    "import os"
   ]
  },
  {
   "cell_type": "code",
   "execution_count": 6,
   "id": "6a3107ea-9ae4-47bb-b487-31c31b150262",
   "metadata": {},
   "outputs": [],
   "source": [
    "folder_list = [x[0] for x in os.walk('assets\\\\vids')][1::]"
   ]
  },
  {
   "cell_type": "code",
   "execution_count": 13,
   "id": "8d51d2af-60cf-43ed-be17-f2ea26186f94",
   "metadata": {},
   "outputs": [
    {
     "data": {
      "text/plain": [
       "'AK-47_Redline(Battle-Scarred)'"
      ]
     },
     "execution_count": 13,
     "metadata": {},
     "output_type": "execute_result"
    }
   ],
   "source": [
    "folder_list\n",
    "folder_list[0].split('\\\\')[-1]"
   ]
  },
  {
   "cell_type": "code",
   "execution_count": 9,
   "id": "3c3d1bb8-fa5d-450e-886e-d1ed1ba73e88",
   "metadata": {},
   "outputs": [
    {
     "name": "stdout",
     "output_type": "stream",
     "text": [
      "300\n",
      "300\n",
      "300\n",
      "300\n",
      "300\n",
      "300\n",
      "300\n",
      "300\n",
      "300\n",
      "300\n",
      "300\n",
      "300\n",
      "300\n",
      "300\n"
     ]
    }
   ],
   "source": [
    "for folder in folder_list:\n",
    "    arr = os.listdir(folder)\n",
    "    print(len(arr))"
   ]
  },
  {
   "cell_type": "code",
   "execution_count": 10,
   "id": "870befe4-b7a6-4dca-8e47-a4617e9f74f8",
   "metadata": {},
   "outputs": [],
   "source": [
    "\n",
    "from moviepy.editor import VideoFileClip, CompositeVideoClip, ImageSequenceClip"
   ]
  },
  {
   "cell_type": "code",
   "execution_count": 12,
   "id": "42006d16-0913-4a6f-9759-9b61afe496a5",
   "metadata": {},
   "outputs": [
    {
     "name": "stdout",
     "output_type": "stream",
     "text": [
      "done\n"
     ]
    },
    {
     "ename": "KeyboardInterrupt",
     "evalue": "Interrupted by user",
     "output_type": "error",
     "traceback": [
      "\u001b[1;31m---------------------------------------------------------------------------\u001b[0m",
      "\u001b[1;31mKeyboardInterrupt\u001b[0m                         Traceback (most recent call last)",
      "Cell \u001b[1;32mIn[12], line 8\u001b[0m\n\u001b[0;32m      6\u001b[0m overlay_video \u001b[38;5;241m=\u001b[39m ImageSequenceClip(image_files, fps\u001b[38;5;241m=\u001b[39m\u001b[38;5;241m30\u001b[39m)\n\u001b[0;32m      7\u001b[0m \u001b[38;5;28mprint\u001b[39m(\u001b[38;5;124m'\u001b[39m\u001b[38;5;124mdone\u001b[39m\u001b[38;5;124m'\u001b[39m)\n\u001b[1;32m----> 8\u001b[0m \u001b[38;5;28;43minput\u001b[39;49m\u001b[43m(\u001b[49m\u001b[43m)\u001b[49m\n",
      "File \u001b[1;32m~\\AppData\\Local\\Programs\\Python\\Python311\\Lib\\site-packages\\ipykernel\\kernelbase.py:1262\u001b[0m, in \u001b[0;36mKernel.raw_input\u001b[1;34m(self, prompt)\u001b[0m\n\u001b[0;32m   1260\u001b[0m     msg \u001b[38;5;241m=\u001b[39m \u001b[38;5;124m\"\u001b[39m\u001b[38;5;124mraw_input was called, but this frontend does not support input requests.\u001b[39m\u001b[38;5;124m\"\u001b[39m\n\u001b[0;32m   1261\u001b[0m     \u001b[38;5;28;01mraise\u001b[39;00m StdinNotImplementedError(msg)\n\u001b[1;32m-> 1262\u001b[0m \u001b[38;5;28;01mreturn\u001b[39;00m \u001b[38;5;28;43mself\u001b[39;49m\u001b[38;5;241;43m.\u001b[39;49m\u001b[43m_input_request\u001b[49m\u001b[43m(\u001b[49m\n\u001b[0;32m   1263\u001b[0m \u001b[43m    \u001b[49m\u001b[38;5;28;43mstr\u001b[39;49m\u001b[43m(\u001b[49m\u001b[43mprompt\u001b[49m\u001b[43m)\u001b[49m\u001b[43m,\u001b[49m\n\u001b[0;32m   1264\u001b[0m \u001b[43m    \u001b[49m\u001b[38;5;28;43mself\u001b[39;49m\u001b[38;5;241;43m.\u001b[39;49m\u001b[43m_parent_ident\u001b[49m\u001b[43m[\u001b[49m\u001b[38;5;124;43m\"\u001b[39;49m\u001b[38;5;124;43mshell\u001b[39;49m\u001b[38;5;124;43m\"\u001b[39;49m\u001b[43m]\u001b[49m\u001b[43m,\u001b[49m\n\u001b[0;32m   1265\u001b[0m \u001b[43m    \u001b[49m\u001b[38;5;28;43mself\u001b[39;49m\u001b[38;5;241;43m.\u001b[39;49m\u001b[43mget_parent\u001b[49m\u001b[43m(\u001b[49m\u001b[38;5;124;43m\"\u001b[39;49m\u001b[38;5;124;43mshell\u001b[39;49m\u001b[38;5;124;43m\"\u001b[39;49m\u001b[43m)\u001b[49m\u001b[43m,\u001b[49m\n\u001b[0;32m   1266\u001b[0m \u001b[43m    \u001b[49m\u001b[43mpassword\u001b[49m\u001b[38;5;241;43m=\u001b[39;49m\u001b[38;5;28;43;01mFalse\u001b[39;49;00m\u001b[43m,\u001b[49m\n\u001b[0;32m   1267\u001b[0m \u001b[43m\u001b[49m\u001b[43m)\u001b[49m\n",
      "File \u001b[1;32m~\\AppData\\Local\\Programs\\Python\\Python311\\Lib\\site-packages\\ipykernel\\kernelbase.py:1305\u001b[0m, in \u001b[0;36mKernel._input_request\u001b[1;34m(self, prompt, ident, parent, password)\u001b[0m\n\u001b[0;32m   1302\u001b[0m \u001b[38;5;28;01mexcept\u001b[39;00m \u001b[38;5;167;01mKeyboardInterrupt\u001b[39;00m:\n\u001b[0;32m   1303\u001b[0m     \u001b[38;5;66;03m# re-raise KeyboardInterrupt, to truncate traceback\u001b[39;00m\n\u001b[0;32m   1304\u001b[0m     msg \u001b[38;5;241m=\u001b[39m \u001b[38;5;124m\"\u001b[39m\u001b[38;5;124mInterrupted by user\u001b[39m\u001b[38;5;124m\"\u001b[39m\n\u001b[1;32m-> 1305\u001b[0m     \u001b[38;5;28;01mraise\u001b[39;00m \u001b[38;5;167;01mKeyboardInterrupt\u001b[39;00m(msg) \u001b[38;5;28;01mfrom\u001b[39;00m \u001b[38;5;28;01mNone\u001b[39;00m\n\u001b[0;32m   1306\u001b[0m \u001b[38;5;28;01mexcept\u001b[39;00m \u001b[38;5;167;01mException\u001b[39;00m:\n\u001b[0;32m   1307\u001b[0m     \u001b[38;5;28mself\u001b[39m\u001b[38;5;241m.\u001b[39mlog\u001b[38;5;241m.\u001b[39mwarning(\u001b[38;5;124m\"\u001b[39m\u001b[38;5;124mInvalid Message:\u001b[39m\u001b[38;5;124m\"\u001b[39m, exc_info\u001b[38;5;241m=\u001b[39m\u001b[38;5;28;01mTrue\u001b[39;00m)\n",
      "\u001b[1;31mKeyboardInterrupt\u001b[0m: Interrupted by user"
     ]
    }
   ],
   "source": [
    "for folder in folder_list: \n",
    "    length_items = len(os.listdir(folder))\n",
    "    image_files = [f'{folder}/frame_{i:04d}.png' for i in range(length_items)]  # Adjust pattern as needed\n",
    "\n",
    "    # Create an image sequence clip\n",
    "    overlay_video = ImageSequenceClip(image_files, fps=30)\n",
    "    print('done')\n",
    "    input()"
   ]
  },
  {
   "cell_type": "code",
   "execution_count": 1,
   "id": "e25b2348-239d-415a-b38a-3acff020051e",
   "metadata": {},
   "outputs": [],
   "source": [
    "import subprocess\n",
    "\n",
    "# Run the ImageMagick command to list fonts\n",
    "# Adjust the command if necessary depending on your ImageMagick installation\n",
    "process = subprocess.Popen(['convert', '-list', 'font'], stdout=subprocess.PIPE, stderr=subprocess.PIPE)\n",
    "stdout, stderr = process.communicate()\n",
    "\n",
    "# Decode the output and split into lines\n",
    "output = stdout.decode('utf-8')\n",
    "lines = output.split('\\n')\n",
    "\n",
    "# Extract and print font names\n",
    "for line in lines:\n",
    "    if line.strip().startswith('Font:'):\n",
    "        font_name = line.split(':')[1].strip()\n",
    "        print(font_name)"
   ]
  },
  {
   "cell_type": "code",
   "execution_count": 5,
   "id": "b3055b68-cb7a-4092-975c-2478b88ed7ef",
   "metadata": {},
   "outputs": [
    {
     "name": "stdout",
     "output_type": "stream",
     "text": [
      "Arial\n",
      "Arial-Black\n",
      "Arial-Bold\n",
      "Arial-Bold-Italic\n",
      "Arial-Italic\n",
      "Bahnschrift\n",
      "Calibri\n",
      "Calibri-Bold\n",
      "Calibri-Bold-Italic\n",
      "Calibri-Italic\n",
      "Calibri-Light\n",
      "Calibri-Light-Italic\n",
      "Cambria-&-Cambria-Math\n",
      "Cambria-Bold\n",
      "Cambria-Bold-Italic\n",
      "Cambria-Italic\n",
      "Candara\n",
      "Candara-Bold\n",
      "Candara-Bold-Italic\n",
      "Candara-Italic\n",
      "Candara-Light\n",
      "Candara-Light-Italic\n",
      "Cascadia-Code-Regular\n",
      "Cascadia-Mono-Regular\n",
      "Comic-Sans-MS\n",
      "Comic-Sans-MS-Bold\n",
      "Comic-Sans-MS-Bold-Italic\n",
      "Comic-Sans-MS-Italic\n",
      "Consolas\n",
      "Consolas-Bold\n",
      "Consolas-Bold-Italic\n",
      "Consolas-Italic\n",
      "Constantia\n",
      "Constantia-Bold\n",
      "Constantia-Bold-Italic\n",
      "Constantia-Italic\n",
      "Corbel\n",
      "Corbel-Bold\n",
      "Corbel-Bold-Italic\n",
      "Corbel-Italic\n",
      "Corbel-Light\n",
      "Corbel-Light-Italic\n",
      "Courier-New\n",
      "Courier-New-Bold\n",
      "Courier-New-Bold-Italic\n",
      "Courier-New-Italic\n",
      "Ebrima\n",
      "Ebrima-Bold\n",
      "Franklin-Gothic-Medium\n",
      "Franklin-Gothic-Medium-Italic\n",
      "Gabriola\n",
      "Gadugi\n",
      "Gadugi-Bold\n",
      "Georgia\n",
      "Georgia-Bold\n",
      "Georgia-Bold-Italic\n",
      "Georgia-Italic\n",
      "Holo-MDL2-Assets\n",
      "Impact\n",
      "Ink-Free\n",
      "Javanese-Text\n",
      "Leelawadee-UI\n",
      "Leelawadee-UI-Bold\n",
      "Leelawadee-UI-Semilight\n",
      "Lucida-Console\n",
      "Lucida-Sans-Unicode\n",
      "Malgun-Gothic\n",
      "Malgun-Gothic-Bold\n",
      "Malgun-Gothic-SemiLight\n",
      "Microsoft-Himalaya\n",
      "Microsoft-JhengHei-&-Microsoft-JhengHei-UI\n",
      "Microsoft-JhengHei-Bold-&-Microsoft-JhengHei-UI-Bold\n",
      "Microsoft-JhengHei-Light-&-Microsoft-JhengHei-UI-Light\n",
      "Microsoft-New-Tai-Lue\n",
      "Microsoft-New-Tai-Lue-Bold\n",
      "Microsoft-PhagsPa\n",
      "Microsoft-PhagsPa-Bold\n",
      "Microsoft-Sans-Serif\n",
      "Microsoft-Tai-Le\n",
      "Microsoft-Tai-Le-Bold\n",
      "Microsoft-YaHei-&-Microsoft-YaHei-UI\n",
      "Microsoft-YaHei-Bold-&-Microsoft-YaHei-UI-Bold\n",
      "Microsoft-YaHei-Light-&-Microsoft-YaHei-UI-Light\n",
      "Microsoft-Yi-Baiti\n",
      "MingLiU-ExtB-&-PMingLiU-ExtB-&-MingLiU_HKSCS-ExtB\n",
      "Mongolian-Baiti\n",
      "MS-Gothic-&-MS-UI-Gothic-&-MS-PGothic\n",
      "MV-Boli\n",
      "Myanmar-Text\n",
      "Myanmar-Text-Bold\n",
      "Nirmala-UI\n",
      "Nirmala-UI-Bold\n",
      "Nirmala-UI-Semilight\n",
      "Palatino-Linotype\n",
      "Palatino-Linotype-Bold\n",
      "Palatino-Linotype-Bold-Italic\n",
      "Palatino-Linotype-Italic\n",
      "Sans-Serif-Collection\n",
      "Segoe-Fluent-Icons\n",
      "Segoe-MDL2-Assets\n",
      "Segoe-Print\n",
      "Segoe-Print-Bold\n",
      "Segoe-Script\n",
      "Segoe-Script-Bold\n",
      "Segoe-UI\n",
      "Segoe-UI-Black\n",
      "Segoe-UI-Black-Italic\n",
      "Segoe-UI-Bold\n",
      "Segoe-UI-Bold-Italic\n",
      "Segoe-UI-Emoji\n",
      "Segoe-UI-Historic\n",
      "Segoe-UI-Italic\n",
      "Segoe-UI-Light\n",
      "Segoe-UI-Light-Italic\n",
      "Segoe-UI-Semibold\n",
      "Segoe-UI-Semibold-Italic\n",
      "Segoe-UI-Semilight\n",
      "Segoe-UI-Semilight-Italic\n",
      "Segoe-UI-Symbol\n",
      "Segoe-UI-Variable\n",
      "SimSun-&-NSimSun\n",
      "SimSun-ExtB\n",
      "Sitka-Text\n",
      "Sitka-Text-Italic\n",
      "Sylfaen\n",
      "Symbol\n",
      "Tahoma\n",
      "Tahoma-Bold\n",
      "Times-New-Roman\n",
      "Times-New-Roman-Bold\n",
      "Times-New-Roman-Bold-Italic\n",
      "Times-New-Roman-Italic\n",
      "Trebuchet-MS\n",
      "Trebuchet-MS-Bold\n",
      "Trebuchet-MS-Bold-Italic\n",
      "Trebuchet-MS-Italic\n",
      "Unispace-Bold\n",
      "Verdana\n",
      "Verdana-Bold\n",
      "Verdana-Bold-Italic\n",
      "Verdana-Italic\n",
      "Webdings\n",
      "Wingdings\n",
      "Yu-Gothic-Bold-&-Yu-Gothic-UI-Semibold-&-Yu-Gothic-UI-Bold\n",
      "Yu-Gothic-Light-&-Yu-Gothic-UI-Light\n",
      "Yu-Gothic-Medium-&-Yu-Gothic-UI-Regular\n",
      "Yu-Gothic-Regular-&-Yu-Gothic-UI-Semilight\n"
     ]
    }
   ],
   "source": [
    "from moviepy.editor import TextClip\n",
    "dummy_clip = TextClip('Dummy Text')\n",
    "\n",
    "# Get the available fonts\n",
    "available_fonts = dummy_clip.list('font')\n",
    "\n",
    "# Print the available fonts\n",
    "for font in available_fonts:\n",
    "    print(font)"
   ]
  },
  {
   "cell_type": "code",
   "execution_count": null,
   "id": "b2b8f52b-f222-4fcc-a3fb-d05aca30d04d",
   "metadata": {},
   "outputs": [],
   "source": []
  }
 ],
 "metadata": {
  "kernelspec": {
   "display_name": "Python 3 (ipykernel)",
   "language": "python",
   "name": "python3"
  },
  "language_info": {
   "codemirror_mode": {
    "name": "ipython",
    "version": 3
   },
   "file_extension": ".py",
   "mimetype": "text/x-python",
   "name": "python",
   "nbconvert_exporter": "python",
   "pygments_lexer": "ipython3",
   "version": "3.11.7"
  }
 },
 "nbformat": 4,
 "nbformat_minor": 5
}

{
 "cells": [
  {
   "cell_type": "code",
   "execution_count": 1,
   "id": "d354d3cb-51e8-41f4-9413-27f230ef9a6e",
   "metadata": {},
   "outputs": [],
   "source": [
    "import cv2\n",
    "import numpy as np\n",
    "import os\n",
    "import pandas as pd\n",
    "from moviepy.editor import VideoFileClip, CompositeVideoClip, ImageSequenceClip, concatenate_videoclips, TextClip, AudioFileClip, concatenate_audioclips"
   ]
  },
  {
   "cell_type": "code",
   "execution_count": 16,
   "id": "3cd09b03-209b-4a03-85dc-032dad982781",
   "metadata": {},
   "outputs": [],
   "source": [
    "clip = AudioFileClip('assets\\\\tts\\\\What cost more AWP Dragon Lore(Well-Worn) or AWP Dragon Lore(Field-Tested)  .mp3')\n",
    "clip_duration = clip.duration"
   ]
  },
  {
   "cell_type": "code",
   "execution_count": 20,
   "id": "ff711a40-e628-474d-941b-b14ec75b2d68",
   "metadata": {},
   "outputs": [
    {
     "data": {
      "text/plain": [
       "4.05"
      ]
     },
     "execution_count": 20,
     "metadata": {},
     "output_type": "execute_result"
    }
   ],
   "source": [
    "start_point_ending = 10 - clip_duration\n",
    "start_point_ending"
   ]
  },
  {
   "cell_type": "code",
   "execution_count": 13,
   "id": "1dcf1d37-50ea-4ab4-8173-acae23932687",
   "metadata": {},
   "outputs": [],
   "source": [
    "ending = AudioFileClip('assets\\\\base\\\\tiktok_ending_sound.mp3')\n",
    "ending_duration = ending.duration"
   ]
  },
  {
   "cell_type": "code",
   "execution_count": 14,
   "id": "5aa5e2d9-5e0d-4499-8045-3b782539967f",
   "metadata": {},
   "outputs": [],
   "source": [
    "duration = 10"
   ]
  },
  {
   "cell_type": "code",
   "execution_count": 21,
   "id": "4964c892-81ca-48b8-8b49-abab504c6640",
   "metadata": {},
   "outputs": [
    {
     "data": {
      "text/plain": [
       "0.4400000000000004"
      ]
     },
     "execution_count": 21,
     "metadata": {},
     "output_type": "execute_result"
    }
   ],
   "source": [
    "ending_duration-start_point_ending"
   ]
  },
  {
   "cell_type": "code",
   "execution_count": 22,
   "id": "d470c5fd-8774-4eef-87f9-596a5cd21be1",
   "metadata": {},
   "outputs": [
    {
     "data": {
      "text/plain": [
       "4.49"
      ]
     },
     "execution_count": 22,
     "metadata": {},
     "output_type": "execute_result"
    }
   ],
   "source": [
    "ending_duration"
   ]
  },
  {
   "cell_type": "code",
   "execution_count": 17,
   "id": "99f8c682-a464-4612-bec5-848b6ff7a2e9",
   "metadata": {},
   "outputs": [],
   "source": [
    "df = pd.read_csv('items_list.csv')\n",
    "df = df.fillna(\"NA\")\n",
    "df['NameEdit'] = df['Name'].str.replace(' | ', '_', regex=False)\n",
    "df['comb'] = df['NameEdit'] + df['Condition']"
   ]
  },
  {
   "cell_type": "code",
   "execution_count": 18,
   "id": "c7eda6c4-abdd-4039-bf6c-7aa1f3009a57",
   "metadata": {},
   "outputs": [
    {
     "data": {
      "text/html": [
       "<div>\n",
       "<style scoped>\n",
       "    .dataframe tbody tr th:only-of-type {\n",
       "        vertical-align: middle;\n",
       "    }\n",
       "\n",
       "    .dataframe tbody tr th {\n",
       "        vertical-align: top;\n",
       "    }\n",
       "\n",
       "    .dataframe thead th {\n",
       "        text-align: right;\n",
       "    }\n",
       "</style>\n",
       "<table border=\"1\" class=\"dataframe\">\n",
       "  <thead>\n",
       "    <tr style=\"text-align: right;\">\n",
       "      <th></th>\n",
       "      <th>Name</th>\n",
       "      <th>Condition</th>\n",
       "      <th>Price</th>\n",
       "      <th>StatTrakPrice</th>\n",
       "      <th>Unnamed: 4</th>\n",
       "      <th>NameEdit</th>\n",
       "      <th>comb</th>\n",
       "    </tr>\n",
       "  </thead>\n",
       "  <tbody>\n",
       "    <tr>\n",
       "      <th>0</th>\n",
       "      <td>AK-47 | Redline</td>\n",
       "      <td>(Minimal Wear)</td>\n",
       "      <td>92.00</td>\n",
       "      <td>245.0</td>\n",
       "      <td>NA</td>\n",
       "      <td>AK-47_Redline</td>\n",
       "      <td>AK-47_Redline(Minimal Wear)</td>\n",
       "    </tr>\n",
       "    <tr>\n",
       "      <th>1</th>\n",
       "      <td>AK-47 | Redline</td>\n",
       "      <td>(Field-Tested)</td>\n",
       "      <td>18.00</td>\n",
       "      <td>43.0</td>\n",
       "      <td>NA</td>\n",
       "      <td>AK-47_Redline</td>\n",
       "      <td>AK-47_Redline(Field-Tested)</td>\n",
       "    </tr>\n",
       "    <tr>\n",
       "      <th>2</th>\n",
       "      <td>AK-47 | Redline</td>\n",
       "      <td>(Well-Worn)</td>\n",
       "      <td>13.00</td>\n",
       "      <td>37.0</td>\n",
       "      <td>NA</td>\n",
       "      <td>AK-47_Redline</td>\n",
       "      <td>AK-47_Redline(Well-Worn)</td>\n",
       "    </tr>\n",
       "    <tr>\n",
       "      <th>3</th>\n",
       "      <td>AK-47 | Redline</td>\n",
       "      <td>(Battle-Scarred)</td>\n",
       "      <td>12.00</td>\n",
       "      <td>25.0</td>\n",
       "      <td>NA</td>\n",
       "      <td>AK-47_Redline</td>\n",
       "      <td>AK-47_Redline(Battle-Scarred)</td>\n",
       "    </tr>\n",
       "    <tr>\n",
       "      <th>4</th>\n",
       "      <td>M4A4 | Asiimov</td>\n",
       "      <td>(Field-Tested)</td>\n",
       "      <td>164.00</td>\n",
       "      <td>583.0</td>\n",
       "      <td>NA</td>\n",
       "      <td>M4A4_Asiimov</td>\n",
       "      <td>M4A4_Asiimov(Field-Tested)</td>\n",
       "    </tr>\n",
       "    <tr>\n",
       "      <th>...</th>\n",
       "      <td>...</td>\n",
       "      <td>...</td>\n",
       "      <td>...</td>\n",
       "      <td>...</td>\n",
       "      <td>...</td>\n",
       "      <td>...</td>\n",
       "      <td>...</td>\n",
       "    </tr>\n",
       "    <tr>\n",
       "      <th>110</th>\n",
       "      <td>Fracture Case</td>\n",
       "      <td>NA</td>\n",
       "      <td>0.28</td>\n",
       "      <td>NA</td>\n",
       "      <td>https://steamcommunity.com/market/search?q=Fra...</td>\n",
       "      <td>Fracture Case</td>\n",
       "      <td>Fracture CaseNA</td>\n",
       "    </tr>\n",
       "    <tr>\n",
       "      <th>111</th>\n",
       "      <td>Operation Broken Fang Case</td>\n",
       "      <td>NA</td>\n",
       "      <td>4.26</td>\n",
       "      <td>NA</td>\n",
       "      <td>https://steamcommunity.com/market/search?q=Ope...</td>\n",
       "      <td>Operation Broken Fang Case</td>\n",
       "      <td>Operation Broken Fang CaseNA</td>\n",
       "    </tr>\n",
       "    <tr>\n",
       "      <th>112</th>\n",
       "      <td>Clutch Case</td>\n",
       "      <td>NA</td>\n",
       "      <td>0.46</td>\n",
       "      <td>NA</td>\n",
       "      <td>https://steamcommunity.com/market/search?q=Clu...</td>\n",
       "      <td>Clutch Case</td>\n",
       "      <td>Clutch CaseNA</td>\n",
       "    </tr>\n",
       "    <tr>\n",
       "      <th>113</th>\n",
       "      <td>Horizon Case</td>\n",
       "      <td>NA</td>\n",
       "      <td>0.83</td>\n",
       "      <td>NA</td>\n",
       "      <td>https://steamcommunity.com/market/search?q=Hor...</td>\n",
       "      <td>Horizon Case</td>\n",
       "      <td>Horizon CaseNA</td>\n",
       "    </tr>\n",
       "    <tr>\n",
       "      <th>114</th>\n",
       "      <td>Sticker | Bomb Doge</td>\n",
       "      <td>NA</td>\n",
       "      <td>1.38</td>\n",
       "      <td>NA</td>\n",
       "      <td>https://steamcommunity.com/market/search?q=Sti...</td>\n",
       "      <td>Sticker_Bomb Doge</td>\n",
       "      <td>Sticker_Bomb DogeNA</td>\n",
       "    </tr>\n",
       "  </tbody>\n",
       "</table>\n",
       "<p>115 rows × 7 columns</p>\n",
       "</div>"
      ],
      "text/plain": [
       "                           Name         Condition   Price StatTrakPrice  \\\n",
       "0               AK-47 | Redline    (Minimal Wear)   92.00         245.0   \n",
       "1               AK-47 | Redline    (Field-Tested)   18.00          43.0   \n",
       "2               AK-47 | Redline       (Well-Worn)   13.00          37.0   \n",
       "3               AK-47 | Redline  (Battle-Scarred)   12.00          25.0   \n",
       "4                M4A4 | Asiimov    (Field-Tested)  164.00         583.0   \n",
       "..                          ...               ...     ...           ...   \n",
       "110               Fracture Case                NA    0.28            NA   \n",
       "111  Operation Broken Fang Case                NA    4.26            NA   \n",
       "112                 Clutch Case                NA    0.46            NA   \n",
       "113                Horizon Case                NA    0.83            NA   \n",
       "114         Sticker | Bomb Doge                NA    1.38            NA   \n",
       "\n",
       "                                            Unnamed: 4  \\\n",
       "0                                                   NA   \n",
       "1                                                   NA   \n",
       "2                                                   NA   \n",
       "3                                                   NA   \n",
       "4                                                   NA   \n",
       "..                                                 ...   \n",
       "110  https://steamcommunity.com/market/search?q=Fra...   \n",
       "111  https://steamcommunity.com/market/search?q=Ope...   \n",
       "112  https://steamcommunity.com/market/search?q=Clu...   \n",
       "113  https://steamcommunity.com/market/search?q=Hor...   \n",
       "114  https://steamcommunity.com/market/search?q=Sti...   \n",
       "\n",
       "                       NameEdit                           comb  \n",
       "0                 AK-47_Redline    AK-47_Redline(Minimal Wear)  \n",
       "1                 AK-47_Redline    AK-47_Redline(Field-Tested)  \n",
       "2                 AK-47_Redline       AK-47_Redline(Well-Worn)  \n",
       "3                 AK-47_Redline  AK-47_Redline(Battle-Scarred)  \n",
       "4                  M4A4_Asiimov     M4A4_Asiimov(Field-Tested)  \n",
       "..                          ...                            ...  \n",
       "110               Fracture Case                Fracture CaseNA  \n",
       "111  Operation Broken Fang Case   Operation Broken Fang CaseNA  \n",
       "112                 Clutch Case                  Clutch CaseNA  \n",
       "113                Horizon Case                 Horizon CaseNA  \n",
       "114           Sticker_Bomb Doge            Sticker_Bomb DogeNA  \n",
       "\n",
       "[115 rows x 7 columns]"
      ]
     },
     "execution_count": 18,
     "metadata": {},
     "output_type": "execute_result"
    }
   ],
   "source": [
    "df"
   ]
  },
  {
   "cell_type": "code",
   "execution_count": 19,
   "id": "a15d7b09-fa8f-42c4-9602-19f58e4f0c26",
   "metadata": {},
   "outputs": [],
   "source": [
    "match = df[(df['comb'] == 'Prisma CaseNA')] "
   ]
  },
  {
   "cell_type": "code",
   "execution_count": 20,
   "id": "f661ca87-f786-4cd5-9b2c-6f5742c6c3ec",
   "metadata": {},
   "outputs": [
    {
     "data": {
      "text/html": [
       "<div>\n",
       "<style scoped>\n",
       "    .dataframe tbody tr th:only-of-type {\n",
       "        vertical-align: middle;\n",
       "    }\n",
       "\n",
       "    .dataframe tbody tr th {\n",
       "        vertical-align: top;\n",
       "    }\n",
       "\n",
       "    .dataframe thead th {\n",
       "        text-align: right;\n",
       "    }\n",
       "</style>\n",
       "<table border=\"1\" class=\"dataframe\">\n",
       "  <thead>\n",
       "    <tr style=\"text-align: right;\">\n",
       "      <th></th>\n",
       "      <th>Name</th>\n",
       "      <th>Condition</th>\n",
       "      <th>Price</th>\n",
       "      <th>StatTrakPrice</th>\n",
       "      <th>Unnamed: 4</th>\n",
       "      <th>NameEdit</th>\n",
       "      <th>comb</th>\n",
       "    </tr>\n",
       "  </thead>\n",
       "  <tbody>\n",
       "    <tr>\n",
       "      <th>108</th>\n",
       "      <td>Prisma Case</td>\n",
       "      <td>NA</td>\n",
       "      <td>0.62</td>\n",
       "      <td>NA</td>\n",
       "      <td>https://steamcommunity.com/market/search?q=Pri...</td>\n",
       "      <td>Prisma Case</td>\n",
       "      <td>Prisma CaseNA</td>\n",
       "    </tr>\n",
       "  </tbody>\n",
       "</table>\n",
       "</div>"
      ],
      "text/plain": [
       "            Name Condition  Price StatTrakPrice  \\\n",
       "108  Prisma Case        NA   0.62            NA   \n",
       "\n",
       "                                            Unnamed: 4     NameEdit  \\\n",
       "108  https://steamcommunity.com/market/search?q=Pri...  Prisma Case   \n",
       "\n",
       "              comb  \n",
       "108  Prisma CaseNA  "
      ]
     },
     "execution_count": 20,
     "metadata": {},
     "output_type": "execute_result"
    }
   ],
   "source": [
    "match"
   ]
  },
  {
   "cell_type": "code",
   "execution_count": 40,
   "id": "4c3537cd-1c6d-456e-afbe-dfac2f37bf1b",
   "metadata": {},
   "outputs": [],
   "source": [
    "ticking_sound = AudioFileClip(\"assets\\\\base\\\\ticking_sound.mp3\")\n",
    "ending_sound = AudioFileClip(\"assets\\\\base\\\\ending_sound.mp3\")\n",
    "video_duration = 10\n",
    "audio_clip = AudioFileClip(\"assets\\\\tts\\\\What cost more SG 553 Pulse(Battle-Scarred) or Tec-9 Fuel Injector(Field-Tested)  .mp3\")"
   ]
  },
  {
   "cell_type": "code",
   "execution_count": 41,
   "id": "9af29228-5d10-4b24-bda0-246bb3d07375",
   "metadata": {},
   "outputs": [],
   "source": [
    "start_point = video_duration - audio_clip.duration - ending_sound.duration"
   ]
  },
  {
   "cell_type": "code",
   "execution_count": 42,
   "id": "3a2bcc23-dc61-467c-8001-6ea67608b45b",
   "metadata": {},
   "outputs": [
    {
     "data": {
      "text/plain": [
       "6.41"
      ]
     },
     "execution_count": 42,
     "metadata": {},
     "output_type": "execute_result"
    }
   ],
   "source": [
    "ticking_sound.duration"
   ]
  },
  {
   "cell_type": "code",
   "execution_count": 43,
   "id": "8f2b4be8-f6a9-4c38-be7d-6003619f411c",
   "metadata": {},
   "outputs": [
    {
     "data": {
      "text/plain": [
       "1.32"
      ]
     },
     "execution_count": 43,
     "metadata": {},
     "output_type": "execute_result"
    }
   ],
   "source": [
    "ending_sound.duration"
   ]
  },
  {
   "cell_type": "code",
   "execution_count": 44,
   "id": "56ea305d-16dd-4235-ade6-ea7cc9c5a10d",
   "metadata": {},
   "outputs": [],
   "source": [
    "if (ticking_sound.duration > start_point):\n",
    "    ticking_sound = ticking_sound.subclip(ticking_sound.duration-start_point)"
   ]
  },
  {
   "cell_type": "code",
   "execution_count": 45,
   "id": "0b717c3e-33b2-49e6-83cc-0f5b311ac6ef",
   "metadata": {},
   "outputs": [
    {
     "data": {
      "text/plain": [
       "1.7699999999999996"
      ]
     },
     "execution_count": 45,
     "metadata": {},
     "output_type": "execute_result"
    }
   ],
   "source": [
    "ticking_sound.duration"
   ]
  },
  {
   "cell_type": "code",
   "execution_count": 46,
   "id": "d570e74a-b7cd-4861-af36-aa6f96451cb6",
   "metadata": {},
   "outputs": [
    {
     "name": "stdout",
     "output_type": "stream",
     "text": [
      "6.91 1.77 1.32\n"
     ]
    }
   ],
   "source": [
    "print(audio_clip.duration, round(ticking_sound.duration,2), ending_sound.duration)"
   ]
  },
  {
   "cell_type": "code",
   "execution_count": null,
   "id": "32bd3029-63a1-46ac-bb9e-11bf1c769af7",
   "metadata": {},
   "outputs": [],
   "source": []
  }
 ],
 "metadata": {
  "kernelspec": {
   "display_name": "Python 3 (ipykernel)",
   "language": "python",
   "name": "python3"
  },
  "language_info": {
   "codemirror_mode": {
    "name": "ipython",
    "version": 3
   },
   "file_extension": ".py",
   "mimetype": "text/x-python",
   "name": "python",
   "nbconvert_exporter": "python",
   "pygments_lexer": "ipython3",
   "version": "3.11.7"
  }
 },
 "nbformat": 4,
 "nbformat_minor": 5
}
